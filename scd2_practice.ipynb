{
 "cells": [
  {
   "cell_type": "code",
   "execution_count": 0,
   "metadata": {
    "application/vnd.databricks.v1+cell": {
     "cellMetadata": {
      "byteLimit": 2048000,
      "rowLimit": 10000
     },
     "inputWidgets": {},
     "nuid": "94553377-324e-49fd-b7d7-19e8f971c1f8",
     "showTitle": false,
     "tableResultSettingsMap": {},
     "title": ""
    }
   },
   "outputs": [],
   "source": [
    "from pyspark.sql.functions import current_date, lit, col\n",
    "\n",
    "spark.conf.set(\"fs.azure.account.key.formula1dl2025pro.dfs.core.windows.net\", \"40wTqDrI1SrXYZ4ZmQnlF6I2CcmoMiye21CqzUrpaiFW0Oj1UtePNjGtFHh9hqMa8c1H5fYPo7PF+AStDyxCCQ==\")"
   ]
  },
  {
   "cell_type": "code",
   "execution_count": 0,
   "metadata": {
    "application/vnd.databricks.v1+cell": {
     "cellMetadata": {
      "byteLimit": 2048000,
      "rowLimit": 10000
     },
     "inputWidgets": {},
     "nuid": "6e54472d-5a3c-4679-9433-d571b0c3b802",
     "showTitle": false,
     "tableResultSettingsMap": {},
     "title": ""
    }
   },
   "outputs": [],
   "source": [
    "\n",
    "df_owners = spark.read.csv(\"abfss://demo@formula1dl2025pro.dfs.core.windows.net/owners.csv\",header=True,inferSchema=True)\n",
    "\n",
    "df_pets = spark.read.json(\"abfss://demo@formula1dl2025pro.dfs.core.windows.net/pet.json\")\n",
    "\n",
    "df_pets = df_pets.drop(\"_corrupt_record\")\n",
    "df_pets = df_pets.na.drop()\n",
    "df_Joined = df_owners.join(df_pets, on=\"owner_id\", how=\"inner\")\n",
    "df_Joined = df_Joined.withColumnRenamed(\"age\",\"pet_age\")\n",
    "df_Joined = df_Joined.select(\"owner_id\",\"owner_name\",\"pet_name\",\"pet_type\",\"pet_age\",\"city\")\n",
    "\n",
    "\n",
    "df_Joined = df_Joined \\\n",
    "    .withColumn(\"start_date\", current_date()) \\\n",
    "    .withColumn(\"end_date\", lit(None).cast(\"date\")) \\\n",
    "    .withColumn(\"is_current\", lit(\"Y\"))\n",
    "\n",
    "df_Joined.write.format(\"delta\").mode(\"overwrite\").saveAsTable(\"pets_owners_combined\")\n",
    "\n",
    "\n"
   ]
  },
  {
   "cell_type": "code",
   "execution_count": 0,
   "metadata": {
    "application/vnd.databricks.v1+cell": {
     "cellMetadata": {
      "byteLimit": 2048000,
      "rowLimit": 10000
     },
     "inputWidgets": {},
     "nuid": "9e0ecc9a-7df6-45a0-95dd-5a77d4324da2",
     "showTitle": false,
     "tableResultSettingsMap": {},
     "title": ""
    }
   },
   "outputs": [],
   "source": [
    "df_updated_owners = spark.read.csv(\"abfss://demo@formula1dl2025pro.dfs.core.windows.net/updated_owners.csv\",header=True,inferSchema=True)\n",
    "\n",
    "df_updated_pets = spark.read.json(\"abfss://demo@formula1dl2025pro.dfs.core.windows.net/updated_pets.json\")\n",
    "\n",
    "df_updated_pets = df_updated_pets.drop(\"_corrupt_record\") \n",
    "df_updated_pets = df_updated_pets.na.drop()\n",
    "df_source = df_updated_owners.join(df_updated_pets, on=\"owner_id\", how=\"inner\")\n",
    "df_source = df_source.withColumnRenamed(\"age\",\"pet_age\")\n",
    "df_source = df_source.select(\"owner_id\",\"owner_name\",\"pet_name\",\"pet_type\",\"pet_age\",\"city\")\n",
    "\n",
    "df_source = df_source \\\n",
    "    .withColumn(\"start_date\", current_date()) \\\n",
    "    .withColumn(\"end_date\", lit(None).cast(\"date\"))\n"
   ]
  },
  {
   "cell_type": "code",
   "execution_count": 0,
   "metadata": {
    "application/vnd.databricks.v1+cell": {
     "cellMetadata": {
      "byteLimit": 2048000,
      "rowLimit": 10000
     },
     "inputWidgets": {},
     "nuid": "c1af0e09-ff86-4db9-803c-86a00f132bc7",
     "showTitle": false,
     "tableResultSettingsMap": {},
     "title": ""
    }
   },
   "outputs": [],
   "source": [
    "df_old = spark.table(\"pets_owners_combined\")\n",
    "df_new = df_source\n",
    "\n",
    "joined_df = df_new.alias(\"new\").join(\n",
    "    df_old.alias(\"old\"),\n",
    "    on=\"owner_id\",\n",
    "    how=\"left\"\n",
    ")\n",
    "\n",
    "columns_to_track = [\"owner_id\", \"owner_name\", \"pet_name\",\"pet_type\", \"pet_age\", \"city\"]\n",
    "\n",
    "from pyspark.sql.functions import sha2, concat_ws, col\n",
    "\n",
    "joined_df = joined_df.withColumn(\n",
    "    \"hash_new\", sha2(concat_ws(\"||\", *[col(f\"new.{c}\") for c in columns_to_track]), 256)\n",
    ").withColumn(\n",
    "    \"hash_old\", sha2(concat_ws(\"||\", *[col(f\"old.{c}\") for c in columns_to_track]), 256)\n",
    ")\n",
    "\n",
    "changed_new = joined_df.filter(\n",
    "    (col(\"hash_old\").isNull()) | (col(\"hash_new\") != col(\"hash_old\"))\n",
    ")\n",
    "\n",
    "new_records = changed_new.select([col(f\"new.{c}\").alias(c) for c in columns_to_track])\n",
    "\n",
    "new_records = new_records.withColumn(\"start_date\", current_date()).withColumn(\"end_date\", lit(None).cast(\"date\")).withColumn(\"is_current\", lit(\"Y\"))\n",
    "\n",
    "expired_records = df_old.join(\n",
    "    new_records.select(\"owner_id\").distinct(),\n",
    "    on=\"owner_id\",\n",
    "    how=\"inner\"\n",
    ").filter(col(\"is_current\") == \"Y\") \\\n",
    " .withColumn(\"end_date\", current_date()) \\\n",
    " .withColumn(\"is_current\", lit(\"N\"))\n",
    "\n",
    "\n",
    "unchanged_records = df_old.join(\n",
    "    new_records.select(new_records.owner_id),\n",
    "    on=\"owner_id\",  # clear and safe\n",
    "    how=\"left_anti\"\n",
    ").filter(\"is_current = 'Y'\")\n",
    "\n",
    "final_df = unchanged_records.unionByName(expired_records, allowMissingColumns=True).unionByName(new_records, allowMissingColumns=True)\n",
    "final_df = final_df.sort(\"owner_id\")\n",
    "\n",
    "final_df.write.format(\"delta\").mode(\"overwrite\").saveAsTable(\"pets_owners_combined\")\n",
    "\n",
    "\n",
    "\n"
   ]
  },
  {
   "cell_type": "code",
   "execution_count": 0,
   "metadata": {
    "application/vnd.databricks.v1+cell": {
     "cellMetadata": {
      "byteLimit": 2048000,
      "implicitDf": true,
      "rowLimit": 10000
     },
     "inputWidgets": {},
     "nuid": "1b5fc7d8-c680-4d90-8092-ba883c413664",
     "showTitle": false,
     "tableResultSettingsMap": {},
     "title": ""
    }
   },
   "outputs": [
    {
     "output_type": "display_data",
     "data": {
      "text/html": [
       "<style scoped>\n",
       "  .table-result-container {\n",
       "    max-height: 300px;\n",
       "    overflow: auto;\n",
       "  }\n",
       "  table, th, td {\n",
       "    border: 1px solid black;\n",
       "    border-collapse: collapse;\n",
       "  }\n",
       "  th, td {\n",
       "    padding: 5px;\n",
       "  }\n",
       "  th {\n",
       "    text-align: left;\n",
       "  }\n",
       "</style><div class='table-result-container'><table class='table-result'><thead style='background-color: white'><tr><th>owner_id</th><th>owner_name</th><th>pet_name</th><th>pet_type</th><th>pet_age</th><th>city</th><th>start_date</th><th>end_date</th><th>is_current</th></tr></thead><tbody><tr><td>1</td><td>John</td><td>Buddy</td><td>Dog</td><td>3</td><td>New York</td><td>2022-01-02</td><td>null</td><td>Y</td></tr><tr><td>2</td><td>Jane</td><td>Mittens</td><td>Cat</td><td>2</td><td>Los Angeles</td><td>2022-01-02</td><td>2025-04-17</td><td>N</td></tr><tr><td>2</td><td>Jane</td><td>Mittens</td><td>Cat</td><td>3</td><td>San Francisco</td><td>2025-04-17</td><td>null</td><td>Y</td></tr><tr><td>3</td><td>Tom</td><td>Max</td><td>Dog</td><td>4</td><td>Chicago</td><td>2022-01-02</td><td>2025-04-17</td><td>N</td></tr><tr><td>3</td><td>Tom</td><td>Max</td><td>Dog</td><td>5</td><td>Austin</td><td>2025-04-17</td><td>null</td><td>Y</td></tr><tr><td>4</td><td>Mary</td><td>Bella</td><td>Cat</td><td>5</td><td>Houston</td><td>2022-01-02</td><td>null</td><td>Y</td></tr><tr><td>5</td><td>David</td><td>Lucy</td><td>Dog</td><td>1</td><td>Phoenix</td><td>2022-01-02</td><td>null</td><td>Y</td></tr><tr><td>6</td><td>Eva</td><td>Rocky</td><td>Dog</td><td>7</td><td>Philadelphia</td><td>2022-01-02</td><td>null</td><td>Y</td></tr><tr><td>7</td><td>Grace</td><td>Lily</td><td>Cat</td><td>3</td><td>San Antonio</td><td>2022-01-02</td><td>null</td><td>Y</td></tr><tr><td>8</td><td>Henry</td><td>Oscar</td><td>Fish</td><td>1</td><td>San Diego</td><td>2022-01-02</td><td>null</td><td>Y</td></tr><tr><td>9</td><td>Ivy</td><td>Daisy</td><td>Cat</td><td>4</td><td>Dallas</td><td>2022-01-02</td><td>null</td><td>Y</td></tr><tr><td>10</td><td>Jack</td><td>Charlie</td><td>Dog</td><td>2</td><td>San Jose</td><td>2022-01-02</td><td>null</td><td>Y</td></tr><tr><td>11</td><td>Liam</td><td>Nala</td><td>Dog</td><td>2</td><td>Seattle</td><td>2025-04-17</td><td>null</td><td>Y</td></tr><tr><td>12</td><td>Emma</td><td>Coco</td><td>Cat</td><td>1</td><td>Boston</td><td>2025-04-17</td><td>null</td><td>Y</td></tr></tbody></table></div>"
      ]
     },
     "metadata": {
      "application/vnd.databricks.v1+output": {
       "addedWidgets": {},
       "aggData": [],
       "aggError": "",
       "aggOverflow": false,
       "aggSchema": [],
       "aggSeriesLimitReached": false,
       "aggType": "",
       "arguments": {},
       "columnCustomDisplayInfos": {},
       "data": [
        [
         1,
         "John",
         "Buddy",
         "Dog",
         3,
         "New York",
         "2022-01-02",
         null,
         "Y"
        ],
        [
         2,
         "Jane",
         "Mittens",
         "Cat",
         2,
         "Los Angeles",
         "2022-01-02",
         "2025-04-17",
         "N"
        ],
        [
         2,
         "Jane",
         "Mittens",
         "Cat",
         3,
         "San Francisco",
         "2025-04-17",
         null,
         "Y"
        ],
        [
         3,
         "Tom",
         "Max",
         "Dog",
         4,
         "Chicago",
         "2022-01-02",
         "2025-04-17",
         "N"
        ],
        [
         3,
         "Tom",
         "Max",
         "Dog",
         5,
         "Austin",
         "2025-04-17",
         null,
         "Y"
        ],
        [
         4,
         "Mary",
         "Bella",
         "Cat",
         5,
         "Houston",
         "2022-01-02",
         null,
         "Y"
        ],
        [
         5,
         "David",
         "Lucy",
         "Dog",
         1,
         "Phoenix",
         "2022-01-02",
         null,
         "Y"
        ],
        [
         6,
         "Eva",
         "Rocky",
         "Dog",
         7,
         "Philadelphia",
         "2022-01-02",
         null,
         "Y"
        ],
        [
         7,
         "Grace",
         "Lily",
         "Cat",
         3,
         "San Antonio",
         "2022-01-02",
         null,
         "Y"
        ],
        [
         8,
         "Henry",
         "Oscar",
         "Fish",
         1,
         "San Diego",
         "2022-01-02",
         null,
         "Y"
        ],
        [
         9,
         "Ivy",
         "Daisy",
         "Cat",
         4,
         "Dallas",
         "2022-01-02",
         null,
         "Y"
        ],
        [
         10,
         "Jack",
         "Charlie",
         "Dog",
         2,
         "San Jose",
         "2022-01-02",
         null,
         "Y"
        ],
        [
         11,
         "Liam",
         "Nala",
         "Dog",
         2,
         "Seattle",
         "2025-04-17",
         null,
         "Y"
        ],
        [
         12,
         "Emma",
         "Coco",
         "Cat",
         1,
         "Boston",
         "2025-04-17",
         null,
         "Y"
        ]
       ],
       "datasetInfos": [],
       "dbfsResultPath": null,
       "isJsonSchema": true,
       "metadata": {
        "createTempViewForImplicitDf": true,
        "dataframeName": "_sqldf",
        "executionCount": 73
       },
       "overflow": false,
       "plotOptions": {
        "customPlotOptions": {},
        "displayType": "table",
        "pivotAggregation": null,
        "pivotColumns": null,
        "xColumns": null,
        "yColumns": null
       },
       "removedWidgets": [],
       "schema": [
        {
         "metadata": "{}",
         "name": "owner_id",
         "type": "\"integer\""
        },
        {
         "metadata": "{}",
         "name": "owner_name",
         "type": "\"string\""
        },
        {
         "metadata": "{}",
         "name": "pet_name",
         "type": "\"string\""
        },
        {
         "metadata": "{}",
         "name": "pet_type",
         "type": "\"string\""
        },
        {
         "metadata": "{}",
         "name": "pet_age",
         "type": "\"long\""
        },
        {
         "metadata": "{}",
         "name": "city",
         "type": "\"string\""
        },
        {
         "metadata": "{}",
         "name": "start_date",
         "type": "\"date\""
        },
        {
         "metadata": "{}",
         "name": "end_date",
         "type": "\"date\""
        },
        {
         "metadata": "{}",
         "name": "is_current",
         "type": "\"string\""
        }
       ],
       "type": "table"
      }
     },
     "output_type": "display_data"
    }
   ],
   "source": [
    "%sql\n",
    "select * from pets_owners_combined"
   ]
  }
 ],
 "metadata": {
  "application/vnd.databricks.v1+notebook": {
   "computePreferences": null,
   "dashboards": [],
   "environmentMetadata": {
    "base_environment": "",
    "environment_version": "2"
   },
   "inputWidgetPreferences": null,
   "language": "python",
   "notebookMetadata": {
    "mostRecentlyExecutedCommandWithImplicitDF": {
     "commandId": 5081225103566030,
     "dataframes": [
      "_sqldf"
     ]
    },
    "pythonIndentUnit": 4
   },
   "notebookName": "scd2_practice",
   "widgets": {}
  },
  "language_info": {
   "name": "python"
  }
 },
 "nbformat": 4,
 "nbformat_minor": 0
}